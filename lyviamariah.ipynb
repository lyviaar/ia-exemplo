{
  "nbformat": 4,
  "nbformat_minor": 0,
  "metadata": {
    "colab": {
      "provenance": []
    },
    "kernelspec": {
      "name": "python3",
      "display_name": "Python 3"
    },
    "language_info": {
      "name": "python"
    }
  },
  "cells": [
    {
      "cell_type": "code",
      "execution_count": 3,
      "metadata": {
        "colab": {
          "base_uri": "https://localhost:8080/"
        },
        "id": "SO4d9jLLxFbi",
        "outputId": "39ac7a88-6baf-4e74-ebb3-7dcbc3eb0cde"
      },
      "outputs": [
        {
          "output_type": "stream",
          "name": "stdout",
          "text": [
            "Requirement already satisfied: google-generativeai in /usr/local/lib/python3.10/dist-packages (0.5.2)\n",
            "Requirement already satisfied: google-ai-generativelanguage==0.6.2 in /usr/local/lib/python3.10/dist-packages (from google-generativeai) (0.6.2)\n",
            "Requirement already satisfied: google-api-core in /usr/local/lib/python3.10/dist-packages (from google-generativeai) (2.11.1)\n",
            "Requirement already satisfied: google-api-python-client in /usr/local/lib/python3.10/dist-packages (from google-generativeai) (2.84.0)\n",
            "Requirement already satisfied: google-auth>=2.15.0 in /usr/local/lib/python3.10/dist-packages (from google-generativeai) (2.27.0)\n",
            "Requirement already satisfied: protobuf in /usr/local/lib/python3.10/dist-packages (from google-generativeai) (3.20.3)\n",
            "Requirement already satisfied: pydantic in /usr/local/lib/python3.10/dist-packages (from google-generativeai) (2.7.0)\n",
            "Requirement already satisfied: tqdm in /usr/local/lib/python3.10/dist-packages (from google-generativeai) (4.66.2)\n",
            "Requirement already satisfied: typing-extensions in /usr/local/lib/python3.10/dist-packages (from google-generativeai) (4.11.0)\n",
            "Requirement already satisfied: proto-plus<2.0.0dev,>=1.22.3 in /usr/local/lib/python3.10/dist-packages (from google-ai-generativelanguage==0.6.2->google-generativeai) (1.23.0)\n",
            "Requirement already satisfied: cachetools<6.0,>=2.0.0 in /usr/local/lib/python3.10/dist-packages (from google-auth>=2.15.0->google-generativeai) (5.3.3)\n",
            "Requirement already satisfied: pyasn1-modules>=0.2.1 in /usr/local/lib/python3.10/dist-packages (from google-auth>=2.15.0->google-generativeai) (0.4.0)\n",
            "Requirement already satisfied: rsa<5,>=3.1.4 in /usr/local/lib/python3.10/dist-packages (from google-auth>=2.15.0->google-generativeai) (4.9)\n",
            "Requirement already satisfied: googleapis-common-protos<2.0.dev0,>=1.56.2 in /usr/local/lib/python3.10/dist-packages (from google-api-core->google-generativeai) (1.63.0)\n",
            "Requirement already satisfied: requests<3.0.0.dev0,>=2.18.0 in /usr/local/lib/python3.10/dist-packages (from google-api-core->google-generativeai) (2.31.0)\n",
            "Requirement already satisfied: httplib2<1dev,>=0.15.0 in /usr/local/lib/python3.10/dist-packages (from google-api-python-client->google-generativeai) (0.22.0)\n",
            "Requirement already satisfied: google-auth-httplib2>=0.1.0 in /usr/local/lib/python3.10/dist-packages (from google-api-python-client->google-generativeai) (0.1.1)\n",
            "Requirement already satisfied: uritemplate<5,>=3.0.1 in /usr/local/lib/python3.10/dist-packages (from google-api-python-client->google-generativeai) (4.1.1)\n",
            "Requirement already satisfied: annotated-types>=0.4.0 in /usr/local/lib/python3.10/dist-packages (from pydantic->google-generativeai) (0.6.0)\n",
            "Requirement already satisfied: pydantic-core==2.18.1 in /usr/local/lib/python3.10/dist-packages (from pydantic->google-generativeai) (2.18.1)\n",
            "Requirement already satisfied: grpcio<2.0dev,>=1.33.2 in /usr/local/lib/python3.10/dist-packages (from google-api-core->google-generativeai) (1.62.2)\n",
            "Requirement already satisfied: grpcio-status<2.0.dev0,>=1.33.2 in /usr/local/lib/python3.10/dist-packages (from google-api-core->google-generativeai) (1.48.2)\n",
            "Requirement already satisfied: pyparsing!=3.0.0,!=3.0.1,!=3.0.2,!=3.0.3,<4,>=2.4.2 in /usr/local/lib/python3.10/dist-packages (from httplib2<1dev,>=0.15.0->google-api-python-client->google-generativeai) (3.1.2)\n",
            "Requirement already satisfied: pyasn1<0.7.0,>=0.4.6 in /usr/local/lib/python3.10/dist-packages (from pyasn1-modules>=0.2.1->google-auth>=2.15.0->google-generativeai) (0.6.0)\n",
            "Requirement already satisfied: charset-normalizer<4,>=2 in /usr/local/lib/python3.10/dist-packages (from requests<3.0.0.dev0,>=2.18.0->google-api-core->google-generativeai) (3.3.2)\n",
            "Requirement already satisfied: idna<4,>=2.5 in /usr/local/lib/python3.10/dist-packages (from requests<3.0.0.dev0,>=2.18.0->google-api-core->google-generativeai) (3.7)\n",
            "Requirement already satisfied: urllib3<3,>=1.21.1 in /usr/local/lib/python3.10/dist-packages (from requests<3.0.0.dev0,>=2.18.0->google-api-core->google-generativeai) (2.0.7)\n",
            "Requirement already satisfied: certifi>=2017.4.17 in /usr/local/lib/python3.10/dist-packages (from requests<3.0.0.dev0,>=2.18.0->google-api-core->google-generativeai) (2024.2.2)\n"
          ]
        }
      ],
      "source": [
        "!pip install -U google-generativeai\n",
        "import google.generativeai as genai\n",
        "from google.colab import userdata\n"
      ]
    },
    {
      "cell_type": "code",
      "source": [
        "GOOGLE_API_KEY=userdata.get('GOOGLE_API_KEY')\n",
        "genai.configure(api_key=GOOGLE_API_KEY)\n"
      ],
      "metadata": {
        "id": "QQOFVyLox5S4"
      },
      "execution_count": 8,
      "outputs": []
    },
    {
      "cell_type": "code",
      "source": [
        "for m in genai.list_models():\n",
        "  if 'generateContent' in m.supported_generation_methods:\n",
        "    print(m.name)\n"
      ],
      "metadata": {
        "colab": {
          "base_uri": "https://localhost:8080/",
          "height": 139
        },
        "id": "CQua_vXcyD0O",
        "outputId": "e60fa647-be52-4ce8-f4cb-516cb3669c3e"
      },
      "execution_count": 9,
      "outputs": [
        {
          "output_type": "stream",
          "name": "stdout",
          "text": [
            "models/gemini-1.0-pro\n",
            "models/gemini-1.0-pro-001\n",
            "models/gemini-1.0-pro-latest\n",
            "models/gemini-1.0-pro-vision-latest\n",
            "models/gemini-1.5-pro-latest\n",
            "models/gemini-pro\n",
            "models/gemini-pro-vision\n"
          ]
        }
      ]
    },
    {
      "cell_type": "code",
      "source": [
        "model = genai.GenerativeModel('gemini-1.0-pro')"
      ],
      "metadata": {
        "id": "1k5gSGTEyO1r"
      },
      "execution_count": 11,
      "outputs": []
    },
    {
      "cell_type": "code",
      "source": [
        "response = model.generate_content(\"Como fazer um bolo de abacate\")\n",
        "print(\"Resposta\", response.text)"
      ],
      "metadata": {
        "colab": {
          "base_uri": "https://localhost:8080/",
          "height": 816
        },
        "id": "7oWc2N-AyZHF",
        "outputId": "ffe3e300-b7ec-4604-9bc5-f08889b93918"
      },
      "execution_count": 14,
      "outputs": [
        {
          "output_type": "stream",
          "name": "stdout",
          "text": [
            "Resposta **Ingredientes:**\n",
            "\n",
            "**Para o Bolo:**\n",
            "- 1 1/2 xícaras (180g) de farinha de trigo\n",
            "- 1 1/2 colheres de chá de fermento em pó\n",
            "- 1/2 colher de chá de bicarbonato de sódio\n",
            "- 1/2 colher de chá de sal\n",
            "- 1 xícara (225g) de açúcar\n",
            "- 1 xícara (240ml) de leite\n",
            "- 1/2 xícara (120g) de manteiga sem sal, derretida e resfriada\n",
            "- 1 ovo grande\n",
            "- 1 gema de ovo grande\n",
            "- 1 abacate maduro, amassado (cerca de 1 xícara)\n",
            "\n",
            "**Para a Cobertura:**\n",
            "- 1/2 xícara (110g) de manteiga sem sal, amolecida\n",
            "- 3 xícaras (300g) de açúcar de confeiteiro\n",
            "- 3 colheres de sopa de leite\n",
            "- 1/4 colher de chá de extrato de baunilha\n",
            "- 1 abacate maduro, fatiado (opcional)\n",
            "\n",
            "**Instruções:**\n",
            "\n",
            "**Para o Bolo:**\n",
            "1. Pré-aqueça o forno a 180°C (160°C com convecção). Unte e enfarinhe uma forma redonda de 23cm.\n",
            "2. Em uma tigela média, misture a farinha, o fermento em pó, o bicarbonato de sódio e o sal.\n",
            "3. Em uma tigela grande, misture o açúcar, o leite, a manteiga derretida, o ovo e a gema de ovo.\n",
            "4. Adicione os ingredientes secos aos ingredientes molhados e bata até incorporar. Não bata demais.\n",
            "5. Misture o abacate amassado.\n",
            "6. Despeje a massa na forma preparada e asse por cerca de 25-30 minutos, ou até que um palito inserido no centro saia limpo.\n",
            "7. Deixe o bolo esfriar na forma por 10 minutos antes de virá-lo sobre uma grelha para esfriar completamente.\n",
            "\n",
            "**Para a Cobertura:**\n",
            "1. Em uma tigela média, bata a manteiga amolecida até ficar fofa.\n",
            "2. Adicione gradualmente o açúcar de confeiteiro, batendo até incorporar.\n",
            "3. Adicione o leite e o extrato de baunilha e bata até ficar homogêneo.\n",
            "\n",
            "**Montagem:**\n",
            "1. Espalhe a cobertura sobre o bolo resfriado.\n",
            "2. Decore com fatias de abacate, se desejar.\n",
            "\n",
            "**Dicas:**\n",
            "\n",
            "- Para um sabor mais intenso de abacate, use 2 abacates na massa e na cobertura.\n",
            "- Se você não tiver leite integral, pode usar leite desnatado ou leite vegetal.\n",
            "- O bolo pode ser armazenado em temperatura ambiente por até 3 dias ou na geladeira por até 5 dias.\n"
          ]
        }
      ]
    }
  ]
}